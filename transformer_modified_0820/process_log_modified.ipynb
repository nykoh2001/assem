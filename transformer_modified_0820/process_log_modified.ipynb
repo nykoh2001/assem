{
 "cells": [
  {
   "cell_type": "code",
   "execution_count": 1,
   "metadata": {},
   "outputs": [],
   "source": [
    "# log_file = open(\"total_log_m.txt\", \"w\")\n",
    "# for i in range(20):\n",
    "#   with open(f\"log/{i}.txt\", \"r\") as f:\n",
    "#     lines = f.readlines()\n",
    "#   f.write(lines)\n",
    "# log_file.close()\n",
    "    "
   ]
  },
  {
   "cell_type": "code",
   "execution_count": 3,
   "metadata": {},
   "outputs": [],
   "source": [
    "log_file = open(\"total_log_m.txt\", \"w\")\n",
    "for i in range(20):\n",
    "  with open(f\"log_m/{i}.txt\", \"r\") as f:\n",
    "    lines = f.readlines()\n",
    "  with open(f\"datas_m/y_test_{i}.txt\", \"r\") as f:\n",
    "    y_lines = f.readlines()\n",
    "  for l, yl in zip(lines, y_lines):\n",
    "    splited_chunks = l.split(\" \")\n",
    "    # origin_length = int(splited_chunks[1])\n",
    "    # injected_length = len(splited_chunks[6].split(\",\"))\n",
    "    output_sequence = yl.split(' ')[4]\n",
    "    # if injected_length < origin_length:\n",
    "    #   splited_chunks[0] = \"d\"\n",
    "    splited_chunks[6] = output_sequence\n",
    "    log_file.write(\" \".join(splited_chunks))\n",
    "  # f.write(lines)\n",
    "log_file.close()\n",
    "    "
   ]
  },
  {
   "cell_type": "code",
   "execution_count": 2,
   "metadata": {},
   "outputs": [],
   "source": [
    "# with open(\"total_log.txt\", \"r\") as total_log_file:\n",
    "#   lines = total_log_file.readlines()\n",
    "# lines = sorted([line.split(\" \") for line in lines])\n",
    "# with open('sorted_total_log.txt', 'w') as stl:\n",
    "#   for line in lines:\n",
    "#     stl.write(\" \".join(line))"
   ]
  },
  {
   "cell_type": "code",
   "execution_count": 4,
   "metadata": {},
   "outputs": [],
   "source": [
    "import pandas as pd\n",
    "\n",
    "df = pd.read_csv(\"total_log_m.txt\", delimiter = ' ', names=[\"타입\", \"원본시퀀스길이\", \"오류개수\", \"실제맞춘개수\", \"결과종류\", \"예측시퀀스\" ,\"정답시퀀스\"])\n",
    "df = df.groupby(['타입','원본시퀀스길이','오류개수', '실제맞춘개수']).count()\n",
    "# df.columns = ['타입','원본시퀀스길이','오류개수', '실제맞춘개수', \"개수\"]\n",
    "df.to_csv(\"statistics_m.csv\")\n",
    "\n"
   ]
  },
  {
   "cell_type": "code",
   "execution_count": 5,
   "metadata": {},
   "outputs": [
    {
     "data": {
      "text/html": [
       "<div>\n",
       "<style scoped>\n",
       "    .dataframe tbody tr th:only-of-type {\n",
       "        vertical-align: middle;\n",
       "    }\n",
       "\n",
       "    .dataframe tbody tr th {\n",
       "        vertical-align: top;\n",
       "    }\n",
       "\n",
       "    .dataframe thead th {\n",
       "        text-align: right;\n",
       "    }\n",
       "</style>\n",
       "<table border=\"1\" class=\"dataframe\">\n",
       "  <thead>\n",
       "    <tr style=\"text-align: right;\">\n",
       "      <th></th>\n",
       "      <th></th>\n",
       "      <th></th>\n",
       "      <th></th>\n",
       "      <th>결과종류</th>\n",
       "      <th>예측시퀀스</th>\n",
       "      <th>정답시퀀스</th>\n",
       "    </tr>\n",
       "    <tr>\n",
       "      <th>타입</th>\n",
       "      <th>원본시퀀스길이</th>\n",
       "      <th>오류개수</th>\n",
       "      <th>실제맞춘개수</th>\n",
       "      <th></th>\n",
       "      <th></th>\n",
       "      <th></th>\n",
       "    </tr>\n",
       "  </thead>\n",
       "  <tbody>\n",
       "    <tr>\n",
       "      <th rowspan=\"5\" valign=\"top\">m</th>\n",
       "      <th rowspan=\"5\" valign=\"top\">5</th>\n",
       "      <th rowspan=\"4\" valign=\"top\">0</th>\n",
       "      <th>2</th>\n",
       "      <td>31</td>\n",
       "      <td>31</td>\n",
       "      <td>31</td>\n",
       "    </tr>\n",
       "    <tr>\n",
       "      <th>3</th>\n",
       "      <td>13</td>\n",
       "      <td>13</td>\n",
       "      <td>13</td>\n",
       "    </tr>\n",
       "    <tr>\n",
       "      <th>4</th>\n",
       "      <td>6</td>\n",
       "      <td>6</td>\n",
       "      <td>6</td>\n",
       "    </tr>\n",
       "    <tr>\n",
       "      <th>5</th>\n",
       "      <td>2380</td>\n",
       "      <td>2380</td>\n",
       "      <td>2380</td>\n",
       "    </tr>\n",
       "    <tr>\n",
       "      <th>1</th>\n",
       "      <th>1</th>\n",
       "      <td>5</td>\n",
       "      <td>5</td>\n",
       "      <td>5</td>\n",
       "    </tr>\n",
       "  </tbody>\n",
       "</table>\n",
       "</div>"
      ],
      "text/plain": [
       "                        결과종류  예측시퀀스  정답시퀀스\n",
       "타입 원본시퀀스길이 오류개수 실제맞춘개수                    \n",
       "m  5       0    2         31     31     31\n",
       "                3         13     13     13\n",
       "                4          6      6      6\n",
       "                5       2380   2380   2380\n",
       "           1    1          5      5      5"
      ]
     },
     "execution_count": 5,
     "metadata": {},
     "output_type": "execute_result"
    }
   ],
   "source": [
    "df.head()"
   ]
  },
  {
   "cell_type": "code",
   "execution_count": 6,
   "metadata": {},
   "outputs": [],
   "source": [
    "import json\n",
    "levels = len(df.index.levels)\n",
    "dicts = [{} for i in range(levels)]\n",
    "last_index = None\n",
    "\n",
    "for index,value, _, _ in df.itertuples():\n",
    "\n",
    "    if not last_index:\n",
    "        last_index = index\n",
    "\n",
    "    for (ii,(i,j)) in enumerate(zip(index, last_index)):\n",
    "        if not i == j:\n",
    "            ii = levels - ii -1\n",
    "            dicts[:ii] =  [{} for _ in dicts[:ii]]\n",
    "            break\n",
    "\n",
    "    for i, key in enumerate(reversed(index)):\n",
    "        dicts[i][key] = value\n",
    "        value = dicts[i]\n",
    "\n",
    "    last_index = index\n",
    "\n",
    "with open(\"statistics_m.json\", 'w') as f:\n",
    "    json.dump(dicts[-1], f, indent=4)"
   ]
  },
  {
   "cell_type": "code",
   "execution_count": 8,
   "metadata": {},
   "outputs": [
    {
     "data": {
      "text/plain": [
       "<Figure size 2500x1000 with 0 Axes>"
      ]
     },
     "metadata": {},
     "output_type": "display_data"
    },
    {
     "data": {
      "text/plain": [
       "<Figure size 2500x1000 with 0 Axes>"
      ]
     },
     "metadata": {},
     "output_type": "display_data"
    },
    {
     "data": {
      "text/plain": [
       "<Figure size 2500x1000 with 0 Axes>"
      ]
     },
     "metadata": {},
     "output_type": "display_data"
    },
    {
     "data": {
      "text/plain": [
       "<Figure size 2500x1000 with 0 Axes>"
      ]
     },
     "metadata": {},
     "output_type": "display_data"
    },
    {
     "data": {
      "text/plain": [
       "<Figure size 2500x1000 with 0 Axes>"
      ]
     },
     "metadata": {},
     "output_type": "display_data"
    },
    {
     "data": {
      "text/plain": [
       "<Figure size 2500x1000 with 0 Axes>"
      ]
     },
     "metadata": {},
     "output_type": "display_data"
    },
    {
     "data": {
      "text/plain": [
       "<Figure size 2500x1000 with 0 Axes>"
      ]
     },
     "metadata": {},
     "output_type": "display_data"
    },
    {
     "data": {
      "text/plain": [
       "<Figure size 2500x1000 with 0 Axes>"
      ]
     },
     "metadata": {},
     "output_type": "display_data"
    }
   ],
   "source": [
    "import json\n",
    "import matplotlib.pyplot as plt\n",
    "import matplotlib.font_manager as fm\n",
    "\n",
    "with open(\"statistics_m.json\", \"r\") as json_file:\n",
    "    statistics = json.load(json_file)\n",
    "\n",
    "font_path = \"/home/plass-assem/assem/Nayeon/NanumGothic-Regular.ttf\"\n",
    "font_name = fm.FontProperties(fname=font_path).get_name()\n",
    "type_ko = {\n",
    "    \"a\":\"추가\",\n",
    "    \"m\":\"수정\",\n",
    "    \"d\":\"삭제\"\n",
    "}\n",
    "\n",
    "# for type in statistics:\n",
    "current = statistics['m']\n",
    "for len_sequence in current:\n",
    "    expectations = []\n",
    "    x = []\n",
    "    for num_error in current[len_sequence]:\n",
    "        x.append(int(num_error))\n",
    "        expectation = 0\n",
    "        total_cnt = sum(current[len_sequence][num_error].values())\n",
    "        for key, cnt in current[len_sequence][num_error].items():\n",
    "            expectation += int(key) * (int(cnt) / total_cnt)\n",
    "        expectations.append(expectation)\n",
    "\n",
    "    expectations = list(map(lambda x: (x / int(len_sequence)) * 100, expectations))\n",
    "\n",
    "    fig, ax = plt.subplots(figsize=(25, 10))\n",
    "    plt.rcParams.update({\"font.size\": 30})\n",
    "    ax.set_title(f\"명령어 시퀀스의 길이 = {len_sequence}, ('수정' 기법을 적용한 데이터)\", pad=20, fontproperties=fm.FontProperties(fname=font_path))\n",
    "    ax.set_xticks(x if len(x) <= 10 else list(filter(lambda x: x % 2 == 0, x)))\n",
    "    ax.set_yticks([12.5*i for i in range(0,9)])\n",
    "    ax.set_yticklabels(map(lambda x: f\"{x}%\", [12.5*i for i in range(0,9)]), fontproperties=fm.FontProperties(fname=font_path))\n",
    "    ax.set_ylim(0, 100)\n",
    "    ax.set_xlabel(\"오류가 발생한 명령어 개수\", labelpad=10, fontproperties=fm.FontProperties(fname=font_path))\n",
    "    ax.set_ylabel(\"평균 일치한 명령어 개수의 비율\", labelpad=20,fontproperties=fm.FontProperties(fname=font_path))\n",
    "    ax.plot(x, expectations)\n",
    "\n",
    "        # Save the plot\n",
    "    plot_filename = f\"graph_m/{len_sequence}.png\"\n",
    "    plt.savefig(plot_filename)\n",
    "    plt.clf()\n"
   ]
  },
  {
   "cell_type": "code",
   "execution_count": 8,
   "metadata": {},
   "outputs": [],
   "source": [
    "import pandas as pd\n",
    "\n",
    "df = pd.read_csv(\"total_log_m.txt\", delimiter = ' ', names=[\"타입\", \"원본시퀀스길이\", \"오류개수\", \"실제맞춘개수\", \"결과종류\", \"예측시퀀스\" ,\"정답시퀀스\"])\n",
    "df = df[df['결과종류'] == \"[완전일치]\"]\n",
    "df = df.groupby(['타입','원본시퀀스길이','오류개수']).count()\n",
    "df = df.groupby(['타입', '원본시퀀스길이']).mean()\n",
    "# df.columns = ['타입','원본시퀀스길이','오류개수', '실제맞춘개수', \"개수\"]\n",
    "df.to_csv(\"statistics_complete.csv\")"
   ]
  },
  {
   "cell_type": "code",
   "execution_count": null,
   "metadata": {},
   "outputs": [],
   "source": []
  }
 ],
 "metadata": {
  "kernelspec": {
   "display_name": "nyk",
   "language": "python",
   "name": "nayeon"
  },
  "language_info": {
   "codemirror_mode": {
    "name": "ipython",
    "version": 3
   },
   "file_extension": ".py",
   "mimetype": "text/x-python",
   "name": "python",
   "nbconvert_exporter": "python",
   "pygments_lexer": "ipython3",
   "version": "3.8.17"
  },
  "orig_nbformat": 4
 },
 "nbformat": 4,
 "nbformat_minor": 2
}
